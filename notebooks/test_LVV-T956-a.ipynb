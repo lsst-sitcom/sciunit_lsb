{
 "cells": [
  {
   "cell_type": "code",
   "execution_count": 1,
   "id": "45712360-319b-4dc5-9e5e-896723d7aff0",
   "metadata": {
    "execution": {
     "iopub.execute_input": "2025-07-22T19:04:02.123017Z",
     "iopub.status.busy": "2025-07-22T19:04:02.122876Z",
     "iopub.status.idle": "2025-07-22T19:04:11.621107Z",
     "shell.execute_reply": "2025-07-22T19:04:11.620573Z",
     "shell.execute_reply.started": "2025-07-22T19:04:02.123002Z"
    }
   },
   "outputs": [],
   "source": [
    "%load_ext autoreload\n",
    "%autoreload 2\n",
    "\n",
    "# rayven is a package built to connect LSST tools with Batoid to simulate ghosts\n",
    "import rayven as rv\n",
    "import numpy as np\n",
    "import matplotlib.pyplot as plt\n",
    "from copy import deepcopy\n",
    "from scipy.stats import binned_statistic_2d\n",
    "\n",
    "from lsst.daf.butler import Butler\n",
    "from lsst.summit.utils import ConsDbClient\n",
    "import lsst.afw.cameraGeom as afwCameraGeom\n"
   ]
  },
  {
   "cell_type": "markdown",
   "id": "9918e563-228c-4a69-a602-a8377301ee94",
   "metadata": {},
   "source": [
    "## Simulate Ghosts Using Batoid & Rayven"
   ]
  },
  {
   "cell_type": "code",
   "execution_count": 9,
   "id": "f5e8ea12-70eb-4718-8a87-573102e70826",
   "metadata": {
    "execution": {
     "iopub.execute_input": "2025-07-22T19:07:57.510306Z",
     "iopub.status.busy": "2025-07-22T19:07:57.509704Z",
     "iopub.status.idle": "2025-07-22T19:07:58.654280Z",
     "shell.execute_reply": "2025-07-22T19:07:58.653753Z",
     "shell.execute_reply.started": "2025-07-22T19:07:57.510287Z"
    },
    "scrolled": true
   },
   "outputs": [],
   "source": [
    "visit = 2025071700171\n",
    "gt = rv.GhostTool(visit=2025071700171)"
   ]
  },
  {
   "cell_type": "code",
   "execution_count": 3,
   "id": "dc001721-d015-40ad-91e1-258668025b01",
   "metadata": {
    "execution": {
     "iopub.execute_input": "2025-07-22T19:04:15.404813Z",
     "iopub.status.busy": "2025-07-22T19:04:15.404632Z",
     "iopub.status.idle": "2025-07-22T19:07:27.135481Z",
     "shell.execute_reply": "2025-07-22T19:07:27.134946Z",
     "shell.execute_reply.started": "2025-07-22T19:04:15.404792Z"
    },
    "scrolled": true
   },
   "outputs": [],
   "source": [
    "gfs = gt.batoid_simulator.simulate_fov()"
   ]
  },
  {
   "cell_type": "code",
   "execution_count": 4,
   "id": "007d4728-4fe0-43fd-a9d2-7d85cb22d96f",
   "metadata": {
    "execution": {
     "iopub.execute_input": "2025-07-22T19:07:27.167358Z",
     "iopub.status.busy": "2025-07-22T19:07:27.167236Z",
     "iopub.status.idle": "2025-07-22T19:07:27.253046Z",
     "shell.execute_reply": "2025-07-22T19:07:27.252585Z",
     "shell.execute_reply.started": "2025-07-22T19:07:27.167345Z"
    }
   },
   "outputs": [
    {
     "data": {
      "text/html": [
       "<div><i>QTable length=2</i>\n",
       "<table id=\"table140458074653952\" class=\"table-striped table-bordered table-condensed\">\n",
       "<thead><tr><th>ra</th><th>dec</th><th>mag</th><th>flux</th><th>px_x</th><th>px_y</th><th>fp_x</th><th>fp_y</th><th>fa_x</th><th>fa_y</th><th>detector_id</th><th>detector_type</th></tr></thead>\n",
       "<thead><tr><th>deg</th><th>deg</th><th>mag</th><th>ct</th><th>pix</th><th>pix</th><th>mm</th><th>mm</th><th>rad</th><th>rad</th><th></th><th></th></tr></thead>\n",
       "<thead><tr><th>float64</th><th>float64</th><th>float64</th><th>float64</th><th>float64</th><th>float64</th><th>float64</th><th>float64</th><th>float64</th><th>float64</th><th>int64</th><th>str3</th></tr></thead>\n",
       "<tr><td>264.39666666666665</td><td>-15.39861111111111</td><td>3.5400000000000005</td><td>60649728596.75098</td><td>-1476.0096232040958</td><td>-14047.138282895547</td><td>-35.23509623204096</td><td>-160.48638282895547</td><td>-0.0034167209331263655</td><td>-0.015562244532620138</td><td>45</td><td>E2V</td></tr>\n",
       "<tr><td>264.4008333333333</td><td>-15.571111111111112</td><td>5.940000000000001</td><td>6650110500.833922</td><td>-1631.4043741630605</td><td>-10946.210449176515</td><td>-36.78904374163061</td><td>-129.47710449176515</td><td>-0.003567672239758115</td><td>-0.012556234802504736</td><td>48</td><td>E2V</td></tr>\n",
       "</table></div>"
      ],
      "text/plain": [
       "<QTable length=2>\n",
       "        ra                 dec         ... detector_id detector_type\n",
       "       deg                 deg         ...                          \n",
       "     float64             float64       ...    int64         str3    \n",
       "------------------ ------------------- ... ----------- -------------\n",
       "264.39666666666665  -15.39861111111111 ...          45           E2V\n",
       " 264.4008333333333 -15.571111111111112 ...          48           E2V"
      ]
     },
     "execution_count": 4,
     "metadata": {},
     "output_type": "execute_result"
    }
   ],
   "source": [
    "gt.star_table"
   ]
  },
  {
   "cell_type": "markdown",
   "id": "6b524a9a-fcfe-4571-b190-c8b5c7398f39",
   "metadata": {},
   "source": [
    "## Setup"
   ]
  },
  {
   "cell_type": "markdown",
   "id": "b7b80406-3dac-4406-bead-15578384ec0c",
   "metadata": {},
   "source": [
    "calculate edges of each detector to bin the ghosts per detector"
   ]
  },
  {
   "cell_type": "code",
   "execution_count": 11,
   "id": "f25a9b65-fc40-476a-aa89-9f866da00682",
   "metadata": {
    "execution": {
     "iopub.execute_input": "2025-07-22T19:08:01.847397Z",
     "iopub.status.busy": "2025-07-22T19:08:01.847046Z",
     "iopub.status.idle": "2025-07-22T19:08:01.941427Z",
     "shell.execute_reply": "2025-07-22T19:08:01.940922Z",
     "shell.execute_reply.started": "2025-07-22T19:08:01.847378Z"
    },
    "scrolled": true
   },
   "outputs": [],
   "source": [
    "x_binsize, y_binsize = [], []\n",
    "\n",
    "x_detectors = [75, 76, 77, 84, 85, 86, 93, 94, 95, 102, 103, 104, 111, 112, 113]\n",
    "y_detectors = [10, 13, 16, 46, 49, 52, 91, 94, 97, 136, 139, 142, 172, 175, 178]\n",
    "\n",
    "tab = deepcopy(gt.camera_geometry.det_geometry_table)\n",
    "\n",
    "for i, j in zip(x_detectors, x_detectors[1:]):\n",
    "    x_binsize.append(tab[tab['detector']==j]['max_x'] - tab[tab['detector']==i]['max_x'])\n",
    "\n",
    "for i, j in zip(y_detectors, y_detectors[1:]):    \n",
    "    y_binsize.append(tab[tab['detector']==j]['min_y'] - tab[tab['detector']==i]['min_y'])\n",
    "    \n",
    "x_bins = [tab[tab['detector']==x_detectors[0]]['min_x'].value + np.sum(x_binsize[:i]) for i in range(len(x_binsize)+1)]\n",
    "x_bins.append(tab[tab['detector']==x_detectors[-1]]['max_x'].value)\n",
    "\n",
    "y_bins = [tab[tab['detector']==y_detectors[0]]['min_y'].value + np.sum(y_binsize[:i]) for i in range(len(y_binsize)+1)]\n",
    "y_bins.append(tab[tab['detector']==y_detectors[-1]]['max_y'].value)"
   ]
  },
  {
   "cell_type": "code",
   "execution_count": 12,
   "id": "92a397f2-f2b5-48d8-b7d1-c3963b956602",
   "metadata": {
    "execution": {
     "iopub.execute_input": "2025-07-22T19:08:02.020704Z",
     "iopub.status.busy": "2025-07-22T19:08:02.020545Z",
     "iopub.status.idle": "2025-07-22T19:08:02.849778Z",
     "shell.execute_reply": "2025-07-22T19:08:02.849287Z",
     "shell.execute_reply.started": "2025-07-22T19:08:02.020690Z"
    }
   },
   "outputs": [],
   "source": [
    "detids = np.zeros((np.size(x_detectors), np.size(y_detectors)))\n",
    "for i in range(detids.shape[0]):\n",
    "    for j in range(detids.shape[1]):\n",
    "\n",
    "        counter = 0\n",
    "        for det in gt.data_products['camera']:\n",
    "            center = det.getCenter(afwCameraGeom.FOCAL_PLANE)\n",
    "            \n",
    "            if ((x_bins[i] < center[0] < x_bins[i+1]) & (y_bins[j] < center[1] < y_bins[j+1])):\n",
    "                #print(det.getId())\n",
    "                counter += 1\n",
    "                detids[j, i] = det.getId()\n",
    "        if counter == 0:\n",
    "            detids[j, i] = 0 #np.nan\n",
    "\n",
    "detids = np.flipud(detids)\n",
    "\n",
    "detids[0:3, 0:3] = np.nan\n",
    "detids[0:3, 12:15] = np.nan\n",
    "detids[12:15, 0:3] = np.nan\n",
    "detids[12:15, 12:15] = np.nan"
   ]
  },
  {
   "cell_type": "markdown",
   "id": "d4998b71-019c-4068-98bc-87dcdf6876c2",
   "metadata": {},
   "source": [
    "## Fetch Sky Noise from ConsDB"
   ]
  },
  {
   "cell_type": "markdown",
   "id": "4878e36a-6268-42b4-b518-7eca7b5add23",
   "metadata": {},
   "source": [
    "get the ccdvisit1_quicklook table from ConsDB that contains the sky noise and sky background values per detector"
   ]
  },
  {
   "cell_type": "code",
   "execution_count": 10,
   "id": "c88bad6e-a081-45f6-ac89-ad69de6ed881",
   "metadata": {
    "execution": {
     "iopub.execute_input": "2025-07-22T19:08:01.067524Z",
     "iopub.status.busy": "2025-07-22T19:08:01.066838Z",
     "iopub.status.idle": "2025-07-22T19:08:01.166615Z",
     "shell.execute_reply": "2025-07-22T19:08:01.166124Z",
     "shell.execute_reply.started": "2025-07-22T19:08:01.067504Z"
    },
    "scrolled": true
   },
   "outputs": [],
   "source": [
    "os.environ[\"no_proxy\"] += \",.consdb\"\n",
    "os.environ[\"no_proxy\"] += \",.slac.stanford.edu\"\n",
    "query = f\"\"\"\n",
    "        SELECT q.sky_bg, q.sky_noise, v.ccdvisit_id, v.visit_id, v.detector \n",
    "        from cdb_lsstcam.ccdvisit1 AS v, cdb_lsstcam.ccdvisit1_quicklook AS q\n",
    "        WHERE v.visit_id = {visit} and q.ccdvisit_id = v.ccdvisit_id\n",
    "        \"\"\"\n",
    "\n",
    "client = ConsDbClient('http://consdb-pq.consdb:8080/consdb/')\n",
    "ccd_table = client.query(query)"
   ]
  },
  {
   "cell_type": "code",
   "execution_count": 13,
   "id": "fe944a2f-dd3e-48aa-8750-0c41f787aa82",
   "metadata": {
    "execution": {
     "iopub.execute_input": "2025-07-22T19:08:02.851023Z",
     "iopub.status.busy": "2025-07-22T19:08:02.850785Z",
     "iopub.status.idle": "2025-07-22T19:08:02.989166Z",
     "shell.execute_reply": "2025-07-22T19:08:02.988394Z",
     "shell.execute_reply.started": "2025-07-22T19:08:02.850998Z"
    }
   },
   "outputs": [],
   "source": [
    "det_skynoise = np.zeros_like(detids)\n",
    "for i in range(detids.shape[0]):\n",
    "    for j in range(detids.shape[1]):\n",
    "        if ~np.isnan(detids[i,j]) & np.size(ccd_table[ccd_table['detector']==detids[i, j]])> 0:\n",
    "            det_skynoise[i, j] = ccd_table[ccd_table['detector']==int(detids[i, j])]['sky_noise'][0]\n",
    "        else:\n",
    "            continue\n",
    "\n",
    "det_skynoise[0:3, 0:3] = np.nan\n",
    "det_skynoise[0:3, 12:15] = np.nan\n",
    "det_skynoise[12:15, 0:3] = np.nan\n",
    "det_skynoise[12:15, 12:15] = np.nan\n",
    "det_skynoise[4:5, 0:3] = np.nan"
   ]
  },
  {
   "cell_type": "code",
   "execution_count": 14,
   "id": "97a6385b-affb-410b-adc1-37a835b3048a",
   "metadata": {
    "execution": {
     "iopub.execute_input": "2025-07-22T19:08:03.631371Z",
     "iopub.status.busy": "2025-07-22T19:08:03.631151Z",
     "iopub.status.idle": "2025-07-22T19:08:03.905594Z",
     "shell.execute_reply": "2025-07-22T19:08:03.905121Z",
     "shell.execute_reply.started": "2025-07-22T19:08:03.631356Z"
    },
    "scrolled": true
   },
   "outputs": [
    {
     "data": {
      "text/plain": [
       "Text(0.5, 1.0, 'visit: 2025071700171 \\n sky noise')"
      ]
     },
     "execution_count": 14,
     "metadata": {},
     "output_type": "execute_result"
    },
    {
     "data": {
      "image/png": "[encoded data removed]",
      "text/plain": [
       "<Figure size 640x480 with 2 Axes>"
      ]
     },
     "metadata": {},
     "output_type": "display_data"
    }
   ],
   "source": [
    "plt.imshow(det_skynoise, cmap='inferno')\n",
    "plt.colorbar()\n",
    "plt.title(f'visit: {visit} \\n sky noise')"
   ]
  },
  {
   "cell_type": "markdown",
   "id": "d9c4cd3d-556f-44a0-b662-3d2643a29e4c",
   "metadata": {},
   "source": [
    "## Bin Ghosts per Detector"
   ]
  },
  {
   "cell_type": "code",
   "execution_count": 22,
   "id": "f04eed73-b9ac-4fa5-86a3-beca52e6b0d4",
   "metadata": {
    "execution": {
     "iopub.execute_input": "2025-07-22T19:16:13.094066Z",
     "iopub.status.busy": "2025-07-22T19:16:13.093469Z",
     "iopub.status.idle": "2025-07-22T19:16:57.578159Z",
     "shell.execute_reply": "2025-07-22T19:16:57.577659Z",
     "shell.execute_reply.started": "2025-07-22T19:16:13.094029Z"
    },
    "scrolled": true
   },
   "outputs": [
    {
     "name": "stderr",
     "output_type": "stream",
     "text": [
      "/tmp/ipykernel_11799/2537160718.py:44: RuntimeWarning: divide by zero encountered in divide\n",
      "  pred = h/det_areas\n",
      "/tmp/ipykernel_11799/2537160718.py:44: RuntimeWarning: invalid value encountered in divide\n",
      "  pred = h/det_areas\n"
     ]
    }
   ],
   "source": [
    "tot_ghosts = np.zeros_like(detids)\n",
    "skynoise_frac = 1/3\n",
    "\n",
    "impacting_ghosts = []\n",
    "\n",
    "for sgs in gfs:\n",
    "    for ghost in sgs:\n",
    "        #do not include flux from star\n",
    "        if ghost.name == 'Star':\n",
    "            continue\n",
    "    \n",
    "        # bin the ghost into 15x15 grid (1 bin = 1 CCD)\n",
    "        h = ghost.bin(15)\n",
    "        \n",
    "        nonzero_det_mask = (h!=0) & np.isfinite(detids)\n",
    "        nonzero_detectors = detids[nonzero_det_mask]\n",
    "        det_areas = np.zeros_like(h)\n",
    "\n",
    "        # calculate the area that each ghost occupies on each detector\n",
    "        detbins=25\n",
    "        for det in nonzero_detectors:\n",
    "            corners = tab[tab['detector']==det]\n",
    "            g, _, _, _ = binned_statistic_2d(ghost.x, ghost.y, \n",
    "                                values = ghost.flux, \n",
    "                                bins=[int(detbins), int(detbins)], \n",
    "                                range=[[corners['min_x'].value, corners['max_x'].value], \n",
    "                                       [corners['min_y'].value, corners['max_y'].value]], \n",
    "                                statistic='sum');\n",
    "            g = np.flipud(g.T)\n",
    "    \n",
    "            ##get bin size in mm\n",
    "            x_binsize = (corners['max_x']-corners['min_x'])/detbins\n",
    "            y_binsize = (corners['max_y']-corners['min_y'])/detbins\n",
    "            \n",
    "            area = np.count_nonzero(g)*x_binsize*y_binsize\n",
    "    \n",
    "            # convert area to pixel^2\n",
    "            area_px = area * (rv.LSSTCamConstants.mm_to_pixel)**2\n",
    "            #print(area_px)\n",
    "            idx = np.where(detids==int(det))\n",
    "            det_areas[idx] = area_px.value\n",
    "            \n",
    "        # divide ghost flux by area to get units of instrumental flux per pixel\n",
    "        pred = h/det_areas\n",
    "        pred[~np.isfinite(pred)] = 0\n",
    "    \n",
    "        # calculate the ghost to sky noise ratio\n",
    "        ratio = pred/det_skynoise\n",
    "    \n",
    "        # calculate mask for ghosts that cross the ratio > 1/3 threshold\n",
    "        mask = (ratio >= skynoise_frac)\n",
    "    \n",
    "        # if more than 2 detectors cross the 1/3 threshold, the ghost is marked as \"impacting\"\n",
    "        if np.sum(mask) >= 1:\n",
    "            impacting_ghosts.append(ghost)\n",
    "        # fig.suptitle(f'{ghost.name}')\n",
    "        # fig, ax = plt.subplots(ncols=2)\n",
    "        # im = ax[0].imshow(ratio)\n",
    "        # plt.colorbar(im)\n",
    "        # ax[1].imshow(mask)\n",
    "        \n",
    "        tot_ghosts += pred"
   ]
  },
  {
   "cell_type": "code",
   "execution_count": 23,
   "id": "c3f9fc87-d323-440a-b10d-b342949674dc",
   "metadata": {
    "execution": {
     "iopub.execute_input": "2025-07-22T19:16:57.579079Z",
     "iopub.status.busy": "2025-07-22T19:16:57.578926Z",
     "iopub.status.idle": "2025-07-22T19:16:57.775652Z",
     "shell.execute_reply": "2025-07-22T19:16:57.775189Z",
     "shell.execute_reply.started": "2025-07-22T19:16:57.579064Z"
    },
    "scrolled": true
   },
   "outputs": [
    {
     "name": "stderr",
     "output_type": "stream",
     "text": [
      "/tmp/ipykernel_11799/651774862.py:1: RuntimeWarning: divide by zero encountered in log10\n",
      "  plt.imshow(np.log10(tot_ghosts), cmap='inferno')\n"
     ]
    },
    {
     "data": {
      "text/plain": [
       "Text(0.5, 1.0, 'visit: 2025071700171 \\n binned ghosts')"
      ]
     },
     "execution_count": 23,
     "metadata": {},
     "output_type": "execute_result"
    },
    {
     "data": {
      "image/png": "[encoded data removed]",
      "text/plain": [
       "<Figure size 640x480 with 1 Axes>"
      ]
     },
     "metadata": {},
     "output_type": "display_data"
    }
   ],
   "source": [
    "plt.imshow(np.log10(tot_ghosts), cmap='inferno')\n",
    "plt.title(f'visit: {visit} \\n binned ghosts')"
   ]
  },
  {
   "cell_type": "markdown",
   "id": "c52750ef-c627-4d7f-bc88-325bab1401c8",
   "metadata": {},
   "source": [
    "## Find Impacting Ghosts"
   ]
  },
  {
   "cell_type": "code",
   "execution_count": 34,
   "id": "02e75158-96ef-4ec1-92bf-ce8f7af7a04e",
   "metadata": {
    "execution": {
     "iopub.execute_input": "2025-07-22T20:02:07.046464Z",
     "iopub.status.busy": "2025-07-22T20:02:07.046110Z",
     "iopub.status.idle": "2025-07-22T20:02:14.488519Z",
     "shell.execute_reply": "2025-07-22T20:02:14.488050Z",
     "shell.execute_reply.started": "2025-07-22T20:02:07.046444Z"
    },
    "scrolled": true
   },
   "outputs": [
    {
     "name": "stderr",
     "output_type": "stream",
     "text": [
      "/tmp/ipykernel_11799/290919219.py:11: RuntimeWarning: divide by zero encountered in log10\n",
      "  plt.imshow(np.log10(binned_impacting_ghosts), extent=[rv.LSSTCamConstants.fp_min_x.value,\n"
     ]
    },
    {
     "data": {
      "text/plain": [
       "Text(0.5, 1.0, 'impacted area: 354138410.19 px \\n fraction: 8.84%')"
      ]
     },
     "execution_count": 34,
     "metadata": {},
     "output_type": "execute_result"
    },
    {
     "data": {
      "image/png": "[encoded data removed]",
      "text/plain": [
       "<Figure size 640x480 with 1 Axes>"
      ]
     },
     "metadata": {},
     "output_type": "display_data"
    }
   ],
   "source": [
    "impacting_ghosts = rv.StarGhostSet(ghosts=impacting_ghosts)\n",
    "binned_impacting_ghosts = impacting_ghosts.bin(1000)\n",
    "\n",
    "x_binsize = rv.LSSTCamConstants.fp_width/1000\n",
    "y_binsize = rv.LSSTCamConstants.fp_height/1000\n",
    "\n",
    "# impacted area \n",
    "impacted_area = np.count_nonzero(binned_impacting_ghosts) * x_binsize * y_binsize * (rv.LSSTCamConstants.mm_to_pixel)**2\n",
    "total_area = rv.LSSTCamConstants.fp_width * rv.LSSTCamConstants.fp_height * (rv.LSSTCamConstants.mm_to_pixel)**2\n",
    "\n",
    "plt.imshow(np.log10(binned_impacting_ghosts), extent=[rv.LSSTCamConstants.fp_min_x.value, \n",
    "                                                      rv.LSSTCamConstants.fp_max_x.value, \n",
    "                                                      rv.LSSTCamConstants.fp_min_y.value, \n",
    "                                                      rv.LSSTCamConstants.fp_max_y.value])\n",
    "\n",
    "for j in range(205):\n",
    "        min_x = tab['min_x']\n",
    "        min_y = tab['min_y']\n",
    "    \n",
    "        max_x = tab['max_x']\n",
    "        max_y = tab['max_y']\n",
    "        plt.vlines(min_x, min_y, max_y, color='r', lw=0.5)\n",
    "        plt.hlines(min_y, min_x, max_x, color='r', lw=0.5)\n",
    "        plt.vlines(max_x, min_y, max_y, color='r', lw=0.5)\n",
    "        plt.hlines(max_y, min_x, max_x, color='r', lw=0.5)\n",
    "    \n",
    "plt.title(f'impacted area: {impacted_area.value:.2f} px \\n fraction: {impacted_area.value/total_area.value*100:.2f}%')"
   ]
  },
  {
   "cell_type": "markdown",
   "id": "f464d2e9-210e-45e4-9ab4-bc2269a60a3a",
   "metadata": {},
   "source": [
    "## Scratch"
   ]
  }
 ],
 "metadata": {
  "kernelspec": {
   "display_name": "LSST",
   "language": "python",
   "name": "lsst"
  },
  "language_info": {
   "codemirror_mode": {
    "name": "ipython",
    "version": 3
   },
   "file_extension": ".py",
   "mimetype": "text/x-python",
   "name": "python",
   "nbconvert_exporter": "python",
   "pygments_lexer": "ipython3",
   "version": "3.12.11"
  }
 },
 "nbformat": 4,
 "nbformat_minor": 5
}
