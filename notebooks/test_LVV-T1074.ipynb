{
 "cells": [
  {
   "cell_type": "markdown",
   "id": "83403b0d-791c-4d58-9cd7-6e9af204516b",
   "metadata": {},
   "source": [
    "### Test case LVV-T1074 - Sky Brightness precision\n",
    "\n",
    "The maximum error in the precision of the sky brightness determination shall be less than **SBPerc = 1** percent."
   ]
  },
  {
   "cell_type": "markdown",
   "id": "56cfe482-9f7a-4eab-8883-a4a725966cc9",
   "metadata": {},
   "source": [
    "#### Discussion\n",
    "\n",
    "This test can be run using data products produced during regular reprocessing campaigns executed by the Data Management pipelines team. Specifically, we will use the ComCam commissioning images in \"/repo/embargo\", found in Butler collection “LSSTComCam/runs/DRP/20241101_20241211/w_2024_50/DM-48128\", and the regularly-reprocessed HSC RC2 data as reprocessed with weekly pipelines version w_2024_34, in Butler collection “HSC/runs/RC2/w_2024_34/DM-45857\"."
   ]
  },
  {
   "cell_type": "code",
   "execution_count": 1,
   "id": "6a3fa490-2f1d-4fc6-981e-f58ca7dd115e",
   "metadata": {
    "execution": {
     "iopub.execute_input": "2025-01-16T10:04:20.890476Z",
     "iopub.status.busy": "2025-01-16T10:04:20.890278Z",
     "iopub.status.idle": "2025-01-16T10:04:24.003500Z",
     "shell.execute_reply": "2025-01-16T10:04:24.002905Z",
     "shell.execute_reply.started": "2025-01-16T10:04:20.890461Z"
    }
   },
   "outputs": [],
   "source": [
    "import numpy as np\n",
    "from astropy.stats import sigma_clip as sc\n",
    "import matplotlib.pyplot as plt\n",
    "from mpl_toolkits.axes_grid1 import make_axes_locatable\n",
    "from IPython.display import display, clear_output\n",
    "\n",
    "from lsst.daf.butler import Butler\n",
    "from lsst.pipe.tasks.background import MaskObjectsTask"
   ]
  },
  {
   "cell_type": "markdown",
   "id": "d88ee02e-56af-440b-ad9d-87208d45dc70",
   "metadata": {},
   "source": [
    "We will measure this using the `calexp` images, executing the following *for each detector, for each test visit*:\n",
    " - Retrieve the sky-subtracted `calexp`\n",
    " - Convert image flux to nanojanskies\n",
    " - Measure and record the per-pixel standard deviation of the background pixel fluxes, ignoring masked detections and artifacts\n",
    "\n",
    "Additionally, we will measure this using the `sourceTable_visit` tables, executing the following *for each test visit*:\n",
    " - Trim the `sourceTable_visit` tables to include only sky objects\n",
    " - Divide the summed `ap09Flux` fluxes by the circular aperture area to derive the mean fluxes within each aperture\n",
    " - Measure and record the standard deviation of these sky object mean fluxes (equivalent to the standard deviation of an image binned by the aperture area)\n",
    " - Correct these mean fluxes by $\\sqrt{N}$, where $N$ is the number of pixels in the measurement aperture, to estimate the per-pixel standard deviation equivalent to that measured from the image background directly\n",
    " - Record the ratios between the standard deviations of the image backgrounds and sky object fluxes to the visit's mean sky brightness, derived as the mean of the `calexp` metadata `BGMEAN` parameters for all CCDs\n",
    "\n",
    "Image and metadata retrieval is wrapped into a function called `retrieveImage`, and sky object retrieval is wrapped into a function called `retrieveSkyObjects`, in the following two cells:"
   ]
  },
  {
   "cell_type": "code",
   "execution_count": 2,
   "id": "c2b9adc0-55dd-4ee1-80de-537445694f7a",
   "metadata": {
    "execution": {
     "iopub.execute_input": "2025-01-16T10:04:24.004623Z",
     "iopub.status.busy": "2025-01-16T10:04:24.004125Z",
     "iopub.status.idle": "2025-01-16T10:04:24.008181Z",
     "shell.execute_reply": "2025-01-16T10:04:24.007762Z",
     "shell.execute_reply.started": "2025-01-16T10:04:24.004606Z"
    }
   },
   "outputs": [],
   "source": [
    "def retrieveImage(dataId, collection):\n",
    "    '''Retrieves the sky-subtracted calibrated exposure and associated metadata.\n",
    "\n",
    "    Parameters\n",
    "    ----------\n",
    "    dataId : `dict`\n",
    "        Dictionary containing \"visit\", \"detector\", and \"instrument\" values for\n",
    "        image retrieval\n",
    "    collection : `str`\n",
    "        Name of the collection in which the desired images are stored\n",
    "\n",
    "    Returns\n",
    "    -------\n",
    "    calexp : `ImageF`\n",
    "        Calexp with the `calexpBackground` subtracted from it, converted to nJy flux\n",
    "    `metaData` : `dict`\n",
    "        Dictionary of calexp metadata, including mean BG flux (in nJy)\n",
    "    '''\n",
    "    # Retrieve the image, metadata, and calibration\n",
    "    calexp = butler.get(\"calexp\",\n",
    "                         dataId=dataId,\n",
    "                         collections=collection,\n",
    "                       )\n",
    "    metaData = calexp.info.getMetadata().toDict()\n",
    "    photoZp = calexp.getPhotoCalib().instFluxToNanojansky(1)\n",
    "\n",
    "    # Convert everything to nanojansky\n",
    "    calexp.image.array *= photoZp\n",
    "    metaData[\"BGMEAN\"] *= photoZp\n",
    "    metaData[\"BGVAR\"] *= photoZp\n",
    "\n",
    "    return calexp, metaData"
   ]
  },
  {
   "cell_type": "code",
   "execution_count": 3,
   "id": "0d490a45-1522-4d93-92a0-f32143c4caf7",
   "metadata": {
    "execution": {
     "iopub.execute_input": "2025-01-16T10:04:24.008901Z",
     "iopub.status.busy": "2025-01-16T10:04:24.008710Z",
     "iopub.status.idle": "2025-01-16T10:04:24.011982Z",
     "shell.execute_reply": "2025-01-16T10:04:24.011513Z",
     "shell.execute_reply.started": "2025-01-16T10:04:24.008886Z"
    }
   },
   "outputs": [],
   "source": [
    "def retrieveSkyObjects(dataId, collection, aper=9):\n",
    "    '''Retrieve the sky objects aperture fluxes for a given detector, for\n",
    "    a given detector in a given visit.\n",
    "\n",
    "    Parameters\n",
    "    ----------\n",
    "    dataId : `dict`\n",
    "        Dictionary containing \"visit\", \"detector\", and \"instrument\" values for\n",
    "        image retrieval\n",
    "    collection : `str`\n",
    "        Name of the collection in which the desired images are stored\n",
    "    aper : `int`\n",
    "        Choice of sky object aperture radius.  Valid are 3,6,9,12,25,35,70\n",
    "        9 is recommended as sky objects are defined as being >8px from the\n",
    "        nearest detection.\n",
    "\n",
    "    Returns\n",
    "    -------\n",
    "    skyObjs : pandas `Series`\n",
    "        Total fluxes of sky objects within circular aperture of radius aper,\n",
    "        nJy\n",
    "    '''\n",
    "    # Retrieve table\n",
    "    srcTab = butler.get(\"sourceTable\",\n",
    "                        dataId=dataId,\n",
    "                        collections=collection,\n",
    "                       )\n",
    "    isSky = (srcTab[\"sky_source\"] > 0)  # Pick only sky objects\n",
    "    skyObjs = srcTab[isSky][\"ap%02dFlux\" % (aper)]  # Units are nJy already\n",
    "\n",
    "    return skyObjs"
   ]
  },
  {
   "cell_type": "markdown",
   "id": "43af31a9-5f61-4acb-b2a6-787a2d2872e2",
   "metadata": {},
   "source": [
    "Estimation of the background and sky object standard deviations are wrapped into functions called `deriveBgNoise` and `deriveObjNoise`, in the following cells:"
   ]
  },
  {
   "cell_type": "code",
   "execution_count": 4,
   "id": "c80ff687-46e0-4b53-b99c-eb0b96614067",
   "metadata": {
    "execution": {
     "iopub.execute_input": "2025-01-16T10:04:24.013245Z",
     "iopub.status.busy": "2025-01-16T10:04:24.013013Z",
     "iopub.status.idle": "2025-01-16T10:04:24.016659Z",
     "shell.execute_reply": "2025-01-16T10:04:24.016246Z",
     "shell.execute_reply.started": "2025-01-16T10:04:24.013230Z"
    }
   },
   "outputs": [],
   "source": [
    "def deriveBgNoise(dataId, collection):\n",
    "    '''Derives the clipped standard deviation of the background of the\n",
    "    sky-subtracted calexps for a single visit.\n",
    "\n",
    "    Parameters\n",
    "    ----------\n",
    "    dataId : `dict`\n",
    "        Dictionary containing \"visit\", \"detector\", and \"instrument\" values for\n",
    "        image retrieval\n",
    "    collection : `str`\n",
    "        Name of the collection in which the desired images are stored\n",
    "\n",
    "    Returns\n",
    "    -------\n",
    "    sigSkyBg : `float`\n",
    "        Clipped standard deviation of sky-subtracted background flux, nJy\n",
    "    noiseFracBg : `float`\n",
    "        Ratio between sigSkyBg and mean sky brightness of exposure\n",
    "    '''\n",
    "    # Retrieving images and metadata\n",
    "    ssImage, metaData = retrieveImage(dataId, collection)\n",
    "\n",
    "    # Masking the sky-subtracted image of sources/other things\n",
    "    mask = ssImage.maskedImage.mask\n",
    "    bad_mask_bit_mask = mask.getPlaneBitMask(badMaskPlanes)\n",
    "    good = (mask.array.astype(int) & bad_mask_bit_mask) == 0\n",
    "\n",
    "    # Sigma-clipping the background pixel fluxes\n",
    "    clipSkyBackground = sc(ssImage.image.array[good], sigma=3, maxiters=3, masked=False)\n",
    "\n",
    "    sigSkyBg = np.nanstd(clipSkyBackground)  # 1 sigma value, per pixel\n",
    "\n",
    "    # Sky accuracy estimates\n",
    "    noiseFracBg = sigSkyBg / metaData[\"BGMEAN\"]\n",
    "\n",
    "    return sigSkyBg, noiseFracBg"
   ]
  },
  {
   "cell_type": "code",
   "execution_count": 5,
   "id": "2b63e136-e520-4b86-a8ec-7e1c087963b9",
   "metadata": {
    "execution": {
     "iopub.execute_input": "2025-01-16T10:04:24.017318Z",
     "iopub.status.busy": "2025-01-16T10:04:24.017142Z",
     "iopub.status.idle": "2025-01-16T10:04:24.020661Z",
     "shell.execute_reply": "2025-01-16T10:04:24.020256Z",
     "shell.execute_reply.started": "2025-01-16T10:04:24.017304Z"
    }
   },
   "outputs": [],
   "source": [
    "def deriveObjNoise(dataId, collection, bgMean, aper=9):\n",
    "    '''Derives the clipped standard deviation of the sky objects for a\n",
    "    single visit.\n",
    "    \n",
    "    Parameters\n",
    "    ----------\n",
    "    dataId : `dict`\n",
    "        Dictionary containing \"visit\", \"detector\", and \"instrument\" values for\n",
    "        image retrieval\n",
    "    collection : `str`\n",
    "        Name of the collection in which the desired images are stored\n",
    "    bgMean : `float`\n",
    "        BGMEAN parameter for the corresponding detector\n",
    "    aper : `int`\n",
    "        Choice of sky object aperture radius.  See retrieveSkyObjects()\n",
    "\n",
    "    Returns\n",
    "    -------\n",
    "    sigSkyObj : `float`\n",
    "        Clipped standard deviation of mean sky object fluxes within aperture,\n",
    "        nJy\n",
    "    noiseFracObj : `float`\n",
    "        Ratio between sigSkyObj and mean sky brightness of exposure\n",
    "    '''\n",
    "    # Retrieving catalog\n",
    "    skyObjs1 = retrieveSkyObjects(dataId, collection, aper)\n",
    "\n",
    "    # Sigma-clipping the mean fluxes within sky object apertures\n",
    "    nPix = np.pi*aper**2  # Number of pixels per aperture\n",
    "    clipSkyObjs = sc(skyObjs1/nPix, sigma=3, maxiters=3, masked=False)\n",
    "\n",
    "    # The distribution of the mean fluxes within 9px radius apertures is equivalent\n",
    "    # to the distribution of a binned version of the image, i.e. std is reduced by\n",
    "    # the bin factor.  So we take that out to compare against the per-pixel std.\n",
    "    sigSkyObj = np.nanstd(clipSkyObjs) * np.sqrt(nPix)\n",
    "\n",
    "    # Sky accuracy estimate\n",
    "    noiseFracObj = sigSkyObj / bgMean\n",
    "\n",
    "    return sigSkyObj, noiseFracObj"
   ]
  },
  {
   "cell_type": "markdown",
   "id": "2011f9a1-a676-471e-ad83-f206e4a1d5f0",
   "metadata": {},
   "source": [
    "Run the following cell to initialize the notebook for ComCam images."
   ]
  },
  {
   "cell_type": "code",
   "execution_count": 6,
   "id": "2fd4544a-7624-49bc-8d55-702486fb696b",
   "metadata": {
    "execution": {
     "iopub.execute_input": "2025-01-16T10:04:24.021331Z",
     "iopub.status.busy": "2025-01-16T10:04:24.021152Z",
     "iopub.status.idle": "2025-01-16T10:04:38.228008Z",
     "shell.execute_reply": "2025-01-16T10:04:38.227471Z",
     "shell.execute_reply.started": "2025-01-16T10:04:24.021317Z"
    }
   },
   "outputs": [],
   "source": [
    "# Initialize the butler repo pointing to the DM-48128 (w_2024_50) collection\n",
    "repo = \"/repo/embargo\"\n",
    "collection = \"LSSTComCam/runs/DRP/20241101_20241211/w_2024_50/DM-48128\"\n",
    "instrument = \"LSSTComCam\"\n",
    "detectors = list(range(9))\n",
    "\n",
    "butler = Butler(repo, collections=collection)\n",
    "\n",
    "# Find the visit IDs\n",
    "refs = butler.query_datasets(\"sourceTable_visit\", collections=collection)\n",
    "# Limit to g-band visits\n",
    "visits = [x.dataId[\"visit\"] for x in refs if x.dataId[\"band\"] == \"g\"]\n",
    "# Reduce run-time by using a sub-sample of all visits\n",
    "visits = visits[:100]"
   ]
  },
  {
   "cell_type": "markdown",
   "id": "a4f4a432-1ea1-44cb-b709-36b9ecb6fb93",
   "metadata": {
    "execution": {
     "iopub.execute_input": "2025-01-09T13:01:12.392054Z",
     "iopub.status.busy": "2025-01-09T13:01:12.391903Z",
     "iopub.status.idle": "2025-01-09T13:01:12.648390Z",
     "shell.execute_reply": "2025-01-09T13:01:12.647798Z",
     "shell.execute_reply.started": "2025-01-09T13:01:12.392038Z"
    }
   },
   "source": [
    "Or run the following cell to initialize the notebook for HSC images."
   ]
  },
  {
   "cell_type": "code",
   "execution_count": 7,
   "id": "04809d1c-51e1-4119-ac5c-854cf6bdf155",
   "metadata": {
    "execution": {
     "iopub.execute_input": "2025-01-16T10:04:38.228810Z",
     "iopub.status.busy": "2025-01-16T10:04:38.228595Z",
     "iopub.status.idle": "2025-01-16T10:04:38.927244Z",
     "shell.execute_reply": "2025-01-16T10:04:38.926711Z",
     "shell.execute_reply.started": "2025-01-16T10:04:38.228794Z"
    }
   },
   "outputs": [],
   "source": [
    "# Initialize the butler repo pointing to the DM-45857 (w_2024_34) collection\n",
    "repo = \"/repo/main\"\n",
    "collection = \"HSC/runs/RC2/w_2024_34/DM-45857\"\n",
    "instrument = \"HSC\"\n",
    "detectors = list(range(104))\n",
    "detectors.remove(9)  # Faulty CCD in HSC\n",
    "\n",
    "butler = Butler(repo, collections=collection)\n",
    "\n",
    "# Find the visit IDs\n",
    "refs = butler.query_datasets(\"sourceTable_visit\", collections=collection)\n",
    "# Limit to g-band visits\n",
    "visits = [x.dataId[\"visit\"] for x in refs if x.dataId[\"band\"] == \"g\"]\n",
    "# Reduce run-time by using a sub-sample of all visits\n",
    "visits = visits[:5]  # Larger number of CCDs in HSC, so a smaller sub-sample is a good idea"
   ]
  },
  {
   "cell_type": "code",
   "execution_count": 8,
   "id": "520ca90f-1f9f-4ed0-9714-42fb8ce1d877",
   "metadata": {
    "execution": {
     "iopub.execute_input": "2025-01-16T10:04:38.928033Z",
     "iopub.status.busy": "2025-01-16T10:04:38.927832Z",
     "iopub.status.idle": "2025-01-16T10:04:38.930406Z",
     "shell.execute_reply": "2025-01-16T10:04:38.930012Z",
     "shell.execute_reply.started": "2025-01-16T10:04:38.928017Z"
    }
   },
   "outputs": [],
   "source": [
    "# Set the mask planes to ignore, following defaults in `background.py` used by `skyCorr`\n",
    "badMaskPlanes = [\"SAT\", \"BAD\", \"EDGE\", \"DETECTED\", \"DETECTED_NEGATIVE\", \"NO_DATA\"]"
   ]
  },
  {
   "cell_type": "markdown",
   "id": "e0327681-a28c-42d0-8ec6-bfe0d11bfb39",
   "metadata": {},
   "source": [
    "For *M* visits, derive the background standard deviations and noise ratios of all CCDs and collate into lists."
   ]
  },
  {
   "cell_type": "code",
   "execution_count": 9,
   "id": "79ace256-17b8-4ce6-a332-e4e773ed1e83",
   "metadata": {
    "execution": {
     "iopub.execute_input": "2025-01-16T10:04:38.931114Z",
     "iopub.status.busy": "2025-01-16T10:04:38.930904Z",
     "iopub.status.idle": "2025-01-16T10:38:37.854637Z",
     "shell.execute_reply": "2025-01-16T10:38:37.854182Z",
     "shell.execute_reply.started": "2025-01-16T10:04:38.931100Z"
    }
   },
   "outputs": [
    {
     "data": {
      "text/plain": [
       "'#######################################################################################################'"
      ]
     },
     "metadata": {},
     "output_type": "display_data"
    }
   ],
   "source": [
    "# Setting up a basic progress bar\n",
    "pound = \"#\"\n",
    "bounds = \" \"*(len(detectors)) + \"| %d\" % (1)\n",
    "\n",
    "# Store results in a dictionary accessed by visit ID\n",
    "noiseDict = {}\n",
    "# Processing time here is long!\n",
    "for i,vis in enumerate(visits):\n",
    "    noiseDict[vis] = {\"sigSkyObj\": [],\n",
    "                      \"sigSkyBg\": [],\n",
    "                      \"noiseFracObj\": [],\n",
    "                      \"noiseFracBg\": []}\n",
    "    # Reset progress bar per visit, label by iteration #\n",
    "    if vis != visits[0]:\n",
    "        pound = \"#\"\n",
    "        bounds = \" \"*(len(detectors)) + \"| %d\" % (i+1)\n",
    "    for det in detectors:\n",
    "        dataId = {\"visit\": vis, \"detector\": det, \"instrument\": instrument}\n",
    "        # Image backgrounds\n",
    "        try:\n",
    "            sigSkyBg, noiseFracBg = deriveBgNoise(dataId, collection)\n",
    "            noiseDict[vis][\"sigSkyBg\"].append(sigSkyBg)\n",
    "            noiseDict[vis][\"noiseFracBg\"].append(noiseFracBg)\n",
    "            bgMean = sigSkyBg / noiseFracBg  # Mean of detector BG\n",
    "        except:\n",
    "            noiseDict[vis][\"sigSkyBg\"].append(np.nan)\n",
    "            noiseDict[vis][\"noiseFracBg\"].append(np.nan)\n",
    "            bgMean = sigSkyBg / noiseFracBg  # Mean of detector BG            \n",
    "\n",
    "        # Sky objects\n",
    "        try:\n",
    "            sigSkyObj, noiseFracObj = deriveObjNoise(dataId, collection, bgMean)\n",
    "            noiseDict[vis][\"sigSkyObj\"].append(sigSkyObj)\n",
    "            noiseDict[vis][\"noiseFracObj\"].append(noiseFracObj)\n",
    "        except:\n",
    "            noiseDict[vis][\"sigSkyObj\"].append(np.nan)\n",
    "            noiseDict[vis][\"noiseFracObj\"].append(np.nan)\n",
    "\n",
    "        # Progress bar code\n",
    "        clear_output(wait=True)\n",
    "        display(pound+bounds)\n",
    "        pound += \"#\"\n",
    "        bounds = bounds[1:]"
   ]
  },
  {
   "cell_type": "markdown",
   "id": "0dbc27ee-4bc1-4204-b87b-c234171ca6e0",
   "metadata": {},
   "source": [
    "For a random sub-sample of at least five visits (or all visits, if fewer than five total), print the standard deviations derived each way to the screen, and print the ratios between these and the mean background flux."
   ]
  },
  {
   "cell_type": "code",
   "execution_count": 10,
   "id": "3339e2d1-1838-4bf0-8b81-3ae699e66fd5",
   "metadata": {
    "execution": {
     "iopub.execute_input": "2025-01-16T10:38:37.855335Z",
     "iopub.status.busy": "2025-01-16T10:38:37.855097Z",
     "iopub.status.idle": "2025-01-16T10:38:37.860028Z",
     "shell.execute_reply": "2025-01-16T10:38:37.859689Z",
     "shell.execute_reply.started": "2025-01-16T10:38:37.855321Z"
    }
   },
   "outputs": [
    {
     "name": "stdout",
     "output_type": "stream",
     "text": [
      "Standard deviations and ratios with mean background flux for five randomly chosen calexps\n",
      "==================================================================================\n",
      "Visit 6320: sigBG=4.022 nJy, sigObjs=5.235 nJy, sigBG/fBG=0.025, sigObjs/fObjs=0.032\n",
      "Visit 11692: sigBG=3.309 nJy, sigObjs=5.170 nJy, sigBG/fBG=0.016, sigObjs/fObjs=0.025\n",
      "Visit 11696: sigBG=3.201 nJy, sigObjs=4.480 nJy, sigBG/fBG=0.015, sigObjs/fObjs=0.021\n",
      "Visit 11694: sigBG=3.335 nJy, sigObjs=6.193 nJy, sigBG/fBG=0.016, sigObjs/fObjs=0.030\n",
      "Visit 11690: sigBG=3.282 nJy, sigObjs=4.731 nJy, sigBG/fBG=0.016, sigObjs/fObjs=0.023\n"
     ]
    }
   ],
   "source": [
    "print(\"Standard deviations and ratios with mean background flux for five randomly chosen calexps\")\n",
    "print(\"==================================================================================\")\n",
    "rng = np.random.default_rng(12345)  # Arbitrary seed\n",
    "if len(visits) < 5:\n",
    "    idx = np.arange(len(visits))\n",
    "else:\n",
    "    idx = rng.choice(np.arange(len(visits)), size=5, replace=False)\n",
    "keys = np.array(list(noiseDict.keys()))[idx]\n",
    "for key in keys:\n",
    "    idy = rng.choice(np.arange(9))  # Random detector ID\n",
    "    print(\"Visit %d: sigBG=%.3f nJy, sigObjs=%.3f nJy, sigBG/fBG=%.3f, sigObjs/fObjs=%.3f\"\n",
    "          % (key, np.nanmean(noiseDict[key][\"sigSkyBg\"][idy]), noiseDict[key][\"sigSkyObj\"][idy],\n",
    "            np.nanmean(noiseDict[key][\"noiseFracBg\"][idy]), noiseDict[key][\"noiseFracObj\"][idy]))"
   ]
  },
  {
   "cell_type": "markdown",
   "id": "87fc4570-a444-4908-bc38-65b7f195e4f2",
   "metadata": {},
   "source": [
    "The standard deviation measured from the background measures the pixel-to-pixel uncertainty from the distribution of all background flux, while that measured from the sky objects measures the same uncertainty on larger (9px radius aperture) scales.  Larger standard deviations measured within apertures suggests that the backgrounds contain correlated flux, possibly leakage from detection or artifact masks.\n",
    "\n",
    "The ratio between the standard deviation and the mean background flux subtracted from the images is a metric to measure the `SBPerc` metric specified in the requirement.  From this small sub-sample of test images, the requirement is not being met."
   ]
  },
  {
   "cell_type": "markdown",
   "id": "1506b23c-9296-4aae-a0ae-dfdfa9750759",
   "metadata": {},
   "source": [
    "#### Plots\n",
    "\n",
    "Create histograms of standard deviations and standard deviations normalized by the mean sky flux in each detector in each visit tested."
   ]
  },
  {
   "cell_type": "code",
   "execution_count": 11,
   "id": "b1754ac5-ba74-4996-a05a-47fb6649caab",
   "metadata": {
    "execution": {
     "iopub.execute_input": "2025-01-16T10:38:37.860566Z",
     "iopub.status.busy": "2025-01-16T10:38:37.860403Z",
     "iopub.status.idle": "2025-01-16T10:38:37.865225Z",
     "shell.execute_reply": "2025-01-16T10:38:37.864865Z",
     "shell.execute_reply.started": "2025-01-16T10:38:37.860553Z"
    }
   },
   "outputs": [],
   "source": [
    "# Retrieve stored dictionary values as Numpy arrays\n",
    "sigSkyBgs = np.array([noiseDict[visits[i]][\"sigSkyBg\"] for i in range(len(visits))]).flatten()\n",
    "sigSkyObjs = np.array([noiseDict[key][\"sigSkyObj\"] for key in visits]).flatten()\n",
    "noiseFracBgs = np.array([noiseDict[visits[i]][\"noiseFracBg\"] for i in range(len(visits))]).flatten()\n",
    "noiseFracObjs = np.array([noiseDict[key][\"noiseFracObj\"] for key in visits]).flatten()"
   ]
  },
  {
   "cell_type": "code",
   "execution_count": 12,
   "id": "c1337796-7924-4f46-90ed-0450bf154a00",
   "metadata": {
    "execution": {
     "iopub.execute_input": "2025-01-16T10:38:37.866514Z",
     "iopub.status.busy": "2025-01-16T10:38:37.866324Z",
     "iopub.status.idle": "2025-01-16T10:38:38.107767Z",
     "shell.execute_reply": "2025-01-16T10:38:38.107424Z",
     "shell.execute_reply.started": "2025-01-16T10:38:37.866500Z"
    }
   },
   "outputs": [
    {
     "data": {
      "text/plain": [
       "Text(0.5, 0, '$\\\\overline{\\\\sigma}_{\\\\rm BG}\\\\, /\\\\, \\\\overline{F}_{\\\\rm BG}$')"
      ]
     },
     "execution_count": 12,
     "metadata": {},
     "output_type": "execute_result"
    },
    {
     "data": {
      "image/png": "[encoded data removed]",
      "text/plain": [
       "<Figure size 900x350 with 2 Axes>"
      ]
     },
     "metadata": {},
     "output_type": "display_data"
    }
   ],
   "source": [
    "fig, ax = plt.subplots(1, 2, figsize=(9, 3.5))\n",
    "# Standard deviation\n",
    "N = 30  # Number of histogram bins\n",
    "ax[0].hist(sigSkyBgs, np.linspace(np.nanmin(sigSkyBgs), np.nanmax(sigSkyObjs), N), histtype=\"step\", label=\"Sky BG\")\n",
    "ax[0].hist(sigSkyObjs, np.linspace(np.nanmin(sigSkyBgs), np.nanmax(sigSkyObjs), N), histtype=\"step\", label=\"Sky objects\")\n",
    "ax[0].legend()\n",
    "ax[0].set_xlabel(r\"$\\overline{\\sigma}_{\\rm BG}$ (nJy)\")\n",
    "\n",
    "# Standard deviation / mean background flux\n",
    "ax[1].hist(noiseFracBgs, np.linspace(np.nanmin(noiseFracBgs), np.nanmax(noiseFracObjs), N), histtype=\"step\", label=\"Sky BG\")\n",
    "ax[1].hist(noiseFracObjs, np.linspace(np.nanmin(noiseFracBgs), np.nanmax(noiseFracObjs), N), histtype=\"step\", label=\"Sky objects\")\n",
    "ax[1].set_xlabel(r\"$\\overline{\\sigma}_{\\rm BG}\\, /\\, \\overline{F}_{\\rm BG}$\")"
   ]
  },
  {
   "cell_type": "markdown",
   "id": "54e53566-833f-4ec0-9ea2-0a0e676fd9e7",
   "metadata": {},
   "source": [
    "Create violin plots showing distributions of standard deviations in sky-subtracted backgrounds for each visit (left panel), and distributions of ratios between those standard deviations and the mean sky brightness (right panel).  Show the values derived from the image backgrounds as blue violins, and the values derived from the sky objects as orange violins.  To meet the requirements, the latter must be < 0.01 (red dotted line in right panel).  Red x's show same metrics  evaluated from sky objects.  To avoid clutter, display only 10 visits."
   ]
  },
  {
   "cell_type": "code",
   "execution_count": 13,
   "id": "21f2b58e-a56e-4967-8e5a-d3cd937a0b9a",
   "metadata": {
    "execution": {
     "iopub.execute_input": "2025-01-16T10:38:38.108375Z",
     "iopub.status.busy": "2025-01-16T10:38:38.108180Z",
     "iopub.status.idle": "2025-01-16T10:38:38.319390Z",
     "shell.execute_reply": "2025-01-16T10:38:38.319061Z",
     "shell.execute_reply.started": "2025-01-16T10:38:38.108362Z"
    }
   },
   "outputs": [
    {
     "data": {
      "image/png": "[encoded data removed]",
      "text/plain": [
       "<Figure size 900x350 with 2 Axes>"
      ]
     },
     "metadata": {},
     "output_type": "display_data"
    }
   ],
   "source": [
    "# Pick 10 visits of the full sample at random, or all if len < 10\n",
    "if len(visits) < 10:\n",
    "    idx = np.arange(len(visits))\n",
    "else:\n",
    "    idx = rng.choice(np.arange(len(visits)), size=10, replace=False)\n",
    "\n",
    "fig, ax = plt.subplots(1, 2, figsize=(9, 3.5))\n",
    "# Standard deviation\n",
    "# From background flux distributions\n",
    "ax[0].violinplot([noiseDict[visits[i]][\"sigSkyBg\"] for i in idx],\n",
    "                 showmedians=True)\n",
    "# From sky objects\n",
    "ax[0].violinplot([noiseDict[visits[i]][\"sigSkyObj\"] for i in idx],\n",
    "                showmedians=True)\n",
    "ax[0].set_ylabel(r\"$\\overline{\\sigma}_{\\rm BG}$ (nJy)\")\n",
    "\n",
    "# Standard deviation / mean background flux\n",
    "# From background flux distributions\n",
    "ax[1].violinplot([noiseDict[visits[i]][\"noiseFracBg\"] for i in idx],\n",
    "                showmedians=True)\n",
    "# From sky objects\n",
    "ax[1].violinplot([noiseDict[visits[i]][\"noiseFracObj\"] for i in idx],\n",
    "                showmedians=True)\n",
    "ax[1].axhline(0.01, c=\"r\", linestyle=\":\")\n",
    "ax[1].set_ylabel(r\"$\\overline{\\sigma}_{\\rm BG}\\, /\\, \\overline{F}_{\\rm BG}$\")\n",
    "plt.subplots_adjust(wspace=0.25)"
   ]
  },
  {
   "cell_type": "markdown",
   "id": "ef9c7f32-e164-4a29-96c1-728072d7752a",
   "metadata": {},
   "source": [
    "#### Results\n",
    "\n",
    "We have demonstrated that the sky estimation precision metric `SBPerc` can be tested using `calexp` images, their associated `skyCorr` models, and the sky objects values stored in the `sourceTable_visit` tables produced by the Rubin Science Pipelines.  The result of this test is \"**Fail**\"; in no visits do we find that `SBPerc < 1`."
   ]
  },
  {
   "cell_type": "code",
   "execution_count": null,
   "id": "00afe844-4f92-4383-be7b-2641ea19fb43",
   "metadata": {},
   "outputs": [],
   "source": []
  }
 ],
 "metadata": {
  "kernelspec": {
   "display_name": "Python 3 (ipykernel)",
   "language": "python",
   "name": "python3"
  },
  "language_info": {
   "codemirror_mode": {
    "name": "ipython",
    "version": 3
   },
   "file_extension": ".py",
   "mimetype": "text/x-python",
   "name": "python",
   "nbconvert_exporter": "python",
   "pygments_lexer": "ipython3",
   "version": "3.11.11"
  }
 },
 "nbformat": 4,
 "nbformat_minor": 5
}
